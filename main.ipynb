{
 "cells": [
  {
   "cell_type": "code",
   "execution_count": null,
   "metadata": {},
   "outputs": [],
   "source": [
    "import os\n",
    "import numpy as np\n",
    "import plotly.graph_objects as go \n",
    "from bs4 import BeautifulSoup\n",
    "from tqdm import tqdm\n",
    "from datetime import datetime, timezone\n",
    "import json  "
   ]
  },
  {
   "cell_type": "markdown",
   "metadata": {},
   "source": [
    "### Извлечение данных"
   ]
  },
  {
   "cell_type": "code",
   "execution_count": null,
   "metadata": {},
   "outputs": [],
   "source": [
    "\n",
    "# Check all file names in data directory\n",
    "dir_path = \"C:\\\\Users\\\\picni\\\\OneDrive\\\\Рабочий стол\\\\Работа\\\\opto_ident\\\\Данные\\\\204\\\\Data\"\n",
    "files_indir_names = []\n",
    "for path in os.listdir(dir_path):\n",
    "    if os.path.isfile(os.path.join(dir_path, path)):\n",
    "        files_indir_names.append(dir_path + \"\\\\\" + path)\n",
    "data = {}\n",
    "# Iterate all files in data directory and add <data> information \n",
    "for file_name in tqdm(files_indir_names):\n",
    "    with open(file_name, 'r') as f:\n",
    "        file = f.read() \n",
    "    soup = BeautifulSoup(file, 'xml')\n",
    "    names = soup.find_all('data')\n",
    "    res = []\n",
    "    for name in names:\n",
    "        name = name.text.split(\",\")\n",
    "        res.append([float(i) for i in name])\n",
    "    res = np.array(res)\n",
    "\n",
    "    # time exatraction \n",
    "    start_time = soup.find_all('startDateTimeIndex')[0].text\n",
    "    #time to unix epoch time  \n",
    "    utc_time = datetime.strptime(start_time[0:-6],\n",
    "                             \"%Y-%m-%dT%H:%M:%S.%f\")\n",
    "    data[file_name] = [res,  utc_time.timestamp()]\n"
   ]
  },
  {
   "cell_type": "code",
   "execution_count": null,
   "metadata": {},
   "outputs": [],
   "source": [
    "names = [\"LAF\",\"ST\",\"AST\",\"TMP\"]\n",
    "fig = go.Figure()\n",
    "for num in range(4):\n",
    "    fig.add_trace(go.Scatter(\n",
    "                        y=data[\"channel 2_20230912104409796.xml\"][0][:,num],\n",
    "                        line=dict(width=2),\n",
    "                        name = names[num]              \n",
    "    ))\n",
    "fig.update_layout(\n",
    "    title=dict(text=\"data\"),\n",
    "    xaxis_title=\"step\", yaxis_title=\"value\"\n",
    ")\n",
    "fig.show()\n"
   ]
  },
  {
   "cell_type": "markdown",
   "metadata": {},
   "source": [
    "### Запускай все что ниже для 3D и карты высот"
   ]
  },
  {
   "cell_type": "markdown",
   "metadata": {},
   "source": [
    "### Построение зависимости глубины температуры и времени"
   ]
  },
  {
   "cell_type": "code",
   "execution_count": null,
   "metadata": {},
   "outputs": [],
   "source": [
    "# Check all file names in data directory\n",
    "dir_path = \"C:\\\\Users\\\\picni\\\\OneDrive\\\\Рабочий стол\\\\Работа\\\\opto_ident\\\\Данные\\\\204\\\\Data\"\n",
    "files_indir_names = []\n",
    "for path in os.listdir(dir_path):\n",
    "    if os.path.isfile(os.path.join(dir_path, path)):\n",
    "        files_indir_names.append(dir_path + \"\\\\\" + path)\n",
    "temp = []\n",
    "time = []\n",
    "laf = []\n",
    "# Iterate all files in data directory and add <data> information \n",
    "for file_name in tqdm(files_indir_names):\n",
    "    with open(file_name, 'r') as f:\n",
    "        file = f.read() \n",
    "    soup = BeautifulSoup(file, 'xml')\n",
    "    names = soup.find_all('data')\n",
    "    res = []\n",
    "    for name in names:\n",
    "        name = name.text.split(\",\")\n",
    "        res.append([float(i) for i in name])\n",
    "    res = np.array(res)\n",
    "    temp.append(res[:,3])\n",
    "    # time exatraction \n",
    "    start_time = soup.find_all('startDateTimeIndex')[0].text\n",
    "    #time to unix epoch time  \n",
    "    utc_time = datetime.strptime(start_time[0:-6],\n",
    "                             \"%Y-%m-%dT%H:%M:%S.%f\")\n",
    "    time.append(utc_time.timestamp())\n",
    "    laf.append(res[:,0])\n",
    "\n"
   ]
  },
  {
   "cell_type": "markdown",
   "metadata": {},
   "source": [
    "### Для сохранения в JSON"
   ]
  },
  {
   "cell_type": "code",
   "execution_count": null,
   "metadata": {},
   "outputs": [],
   "source": [
    "json_dict = dict()\n",
    "indx = 0\n",
    "for i in time:\n",
    "    json_dict[i] = {\"temp\": temp[indx].tolist(), \"laf\": laf[indx].tolist()}\n",
    "    indx += 1\n",
    "json_object = json.dumps(json_dict, indent = 4)\n",
    "with open(\"data.json\", \"w\") as outfile:\n",
    "    outfile.write(json_object)"
   ]
  },
  {
   "cell_type": "markdown",
   "metadata": {},
   "source": [
    "### Для считывания из JSON"
   ]
  },
  {
   "cell_type": "code",
   "execution_count": null,
   "metadata": {},
   "outputs": [],
   "source": [
    "np.array(time)[0]"
   ]
  },
  {
   "cell_type": "code",
   "execution_count": null,
   "metadata": {},
   "outputs": [],
   "source": [
    "with open('data.json', 'r') as openfile:\n",
    "    json_object = json.load(openfile)\n",
    "time = list(json_object.keys())\n",
    "time = np.array([float(i) for i in time])\n",
    "laf = np.array([i['laf'] for i in json_object.values()])\n",
    "temp = np.array([i['temp'] for i in json_object.values()])\n"
   ]
  },
  {
   "cell_type": "code",
   "execution_count": null,
   "metadata": {},
   "outputs": [],
   "source": [
    "# Прорежаем данные \n",
    "DELIM = 1\n",
    "temp_new = temp[:,::DELIM]\n",
    "laf_new = laf[0][::DELIM]"
   ]
  },
  {
   "cell_type": "code",
   "execution_count": null,
   "metadata": {},
   "outputs": [],
   "source": [
    "import plotly.graph_objects as go\n",
    "\n",
    "fig = go.Figure()\n",
    "fig.add_trace(go.Heatmap(\n",
    "    z=temp_new,\n",
    "    zmax=70,  \n",
    "    zmin=20,\n",
    "    # x = laf_new,\n",
    "    y = np.array(time),\n",
    "))\n",
    "fig.update_layout(\n",
    "    # xaxis_range=[30,1457]\n",
    ")\n",
    "# fig.write_html(\"file.html\")\n",
    "\n",
    "fig.show()"
   ]
  },
  {
   "cell_type": "code",
   "execution_count": null,
   "metadata": {},
   "outputs": [],
   "source": [
    "time[310]"
   ]
  },
  {
   "cell_type": "code",
   "execution_count": null,
   "metadata": {},
   "outputs": [],
   "source": [
    "def corr(x, y):\n",
    "    x = (x - x.mean())\n",
    "    x /= np.linalg.norm(x)\n",
    "    y = (y - y.mean())\n",
    "    y /= np.linalg.norm(y)\n",
    "    \n",
    "    result = np.correlate(x, y, mode='full')\n",
    "    result = result[result.size//2:]\n",
    "    index_max = np.argmax(result)\n",
    "    return index_max"
   ]
  },
  {
   "cell_type": "code",
   "execution_count": null,
   "metadata": {},
   "outputs": [],
   "source": [
    "offset = {}\n",
    "ref_idx = 13450\n",
    "for i in range(250):\n",
    "    off_idx =  ref_idx - i\n",
    "    x = temp[340:520, ref_idx]\n",
    "    y = temp[340:520, off_idx]\n",
    "    result = corr(y,x)\n",
    "    offset[laf_new[off_idx]] = result\n",
    "    import plotly.graph_objects as go\n",
    "fig = go.Figure()\n",
    "fig.add_trace(go.Scatter(\n",
    "    x =list(offset.keys()),\n",
    "    y = np.array(list(offset.values()))*12*60,\n",
    "))\n",
    "fig.write_html(\"file.html\")\n",
    "\n",
    "fig.show()"
   ]
  },
  {
   "cell_type": "code",
   "execution_count": null,
   "metadata": {},
   "outputs": [],
   "source": [
    "import plotly.graph_objects as go\n",
    "\n",
    "\n",
    "fig = go.Figure()\n",
    "for i in range(56):\n",
    "    temp_new = temp[i,:]\n",
    "    print(laf_new[i*10])\n",
    "\n",
    "    fig.add_trace(go.Scatter(\n",
    "        y = temp_new,\n",
    "        name  = i*12*60*60,\n",
    "        x = laf_new#[330:520]\n",
    "    ))\n",
    "fig.update_layout(\n",
    "    # xaxis_range=[30,1457]\n",
    ")\n",
    "fig.write_html(\"file.html\")\n",
    "\n",
    "fig.show()"
   ]
  },
  {
   "cell_type": "markdown",
   "metadata": {},
   "source": [
    "### Фильтр Лапласа"
   ]
  }
 ],
 "metadata": {
  "kernelspec": {
   "display_name": "base",
   "language": "python",
   "name": "python3"
  },
  "language_info": {
   "codemirror_mode": {
    "name": "ipython",
    "version": 3
   },
   "file_extension": ".py",
   "mimetype": "text/x-python",
   "name": "python",
   "nbconvert_exporter": "python",
   "pygments_lexer": "ipython3",
   "version": "3.11.4"
  }
 },
 "nbformat": 4,
 "nbformat_minor": 2
}
